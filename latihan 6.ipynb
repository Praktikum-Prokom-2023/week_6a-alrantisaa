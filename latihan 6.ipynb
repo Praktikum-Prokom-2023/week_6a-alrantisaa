{
 "cells": [
  {
   "cell_type": "code",
   "execution_count": 1,
   "metadata": {},
   "outputs": [
    {
     "name": "stdout",
     "output_type": "stream",
     "text": [
      "['d', 'c', 'b', 'a']\n",
      "['d', 'c', 'b', 'a']\n"
     ]
    }
   ],
   "source": [
    "#VERSI 1\n",
    "alph = [\"a\", \"b\", \"c\", \"d\"][::-1]\n",
    "print(alph)\n",
    "\n",
    "#VERSI 2\n",
    "alph = [\"a\", \"b\", \"c\", \"d\"]\n",
    "def alph(x):\n",
    "    return x[::-1]\n",
    "\n",
    "hasil = alph([\"a\", \"b\", \"c\", \"d\"])\n",
    "print(hasil)"
   ]
  },
  {
   "cell_type": "code",
   "execution_count": 2,
   "metadata": {},
   "outputs": [
    {
     "name": "stdout",
     "output_type": "stream",
     "text": [
      "FALSE\n"
     ]
    }
   ],
   "source": [
    "def tambah_angka(angka1, angka2):\n",
    "    if angka1 > angka2:\n",
    "        print(\"TRUE!\")\n",
    "    elif angka1 <= angka2:\n",
    "        print(\"FALSE\")\n",
    "    else:\n",
    "        print(\"FALSE!\")\n",
    "\n",
    "tambah_angka(3, 3)\n"
   ]
  }
 ],
 "metadata": {
  "kernelspec": {
   "display_name": "Python 3",
   "language": "python",
   "name": "python3"
  },
  "language_info": {
   "codemirror_mode": {
    "name": "ipython",
    "version": 3
   },
   "file_extension": ".py",
   "mimetype": "text/x-python",
   "name": "python",
   "nbconvert_exporter": "python",
   "pygments_lexer": "ipython3",
   "version": "3.10.8"
  },
  "orig_nbformat": 4
 },
 "nbformat": 4,
 "nbformat_minor": 2
}
